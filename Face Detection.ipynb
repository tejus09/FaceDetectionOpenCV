{
 "cells": [
  {
   "cell_type": "code",
   "execution_count": 3,
   "id": "4098ecce",
   "metadata": {},
   "outputs": [],
   "source": [
    "import mediapipe as mp\n",
    "import cv2\n",
    "import numpy as np\n",
    "import time\n",
    "cap = cv2.VideoCapture(0)\n",
    "mp_face = mp.solutions.face_detection\n",
    "mp_draw = mp.solutions.drawing_utils\n",
    "\n",
    "pTime = 0\n",
    "with mp_face.FaceDetection(1) as face:\n",
    "    while cap.isOpened():\n",
    "        ret, frame = cap.read()\n",
    "        img = cv2.cvtColor(frame, cv2.COLOR_BGR2RGB)\n",
    "        results = face.process(img)\n",
    "        \n",
    "        if results.detections:\n",
    "            for id, i in enumerate(results.detections):\n",
    "#                 print(i.location_data.relative_bounding_box)\n",
    "                boxC = i.location_data.relative_bounding_box\n",
    "                ih, iw, ic = frame.shape\n",
    "                bbox = int(boxC.xmin*iw), int(boxC.ymin*ih), int(boxC.width*iw), int(boxC.height*ih)\n",
    "                cv2.rectangle(frame, bbox, (0, 255, 0), 2)\n",
    "                cv2.putText(frame, str(id+1), (bbox[0], bbox[1]-20), cv2.FONT_HERSHEY_DUPLEX, 1, (0, 255, 0), 2)\n",
    "            cv2.putText(frame, f'Number Of Faces: {id+1}', (20, 50), cv2.FONT_HERSHEY_DUPLEX, 1, (255, 0, 0), 2)\n",
    "        cTime = time.time()\n",
    "        fps = 1 / (cTime - pTime)\n",
    "        cv2.putText(frame, f'FPS : {int(fps)}', (20, 100), cv2.FONT_HERSHEY_DUPLEX, 1, (255, 0, 0), 2)\n",
    "        pTime = cTime\n",
    "        \n",
    "        cv2.imshow(\"Frame\", frame)\n",
    "        j = cv2.waitKey(1)\n",
    "        if(j == ord('q')):\n",
    "            break\n",
    "cap.release()\n",
    "cv2.destroyAllWindows()"
   ]
  }
 ],
 "metadata": {
  "kernelspec": {
   "display_name": "Python 3 (ipykernel)",
   "language": "python",
   "name": "python3"
  },
  "language_info": {
   "codemirror_mode": {
    "name": "ipython",
    "version": 3
   },
   "file_extension": ".py",
   "mimetype": "text/x-python",
   "name": "python",
   "nbconvert_exporter": "python",
   "pygments_lexer": "ipython3",
   "version": "3.10.6"
  },
  "vscode": {
   "interpreter": {
    "hash": "ba07ef5f012c0020c4fb15c2c02bd02ef01fea8d9c5ca1897826b43e39d353b3"
   }
  }
 },
 "nbformat": 4,
 "nbformat_minor": 5
}
